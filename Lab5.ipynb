{
 "cells": [
  {
   "cell_type": "markdown",
   "id": "86bb4377",
   "metadata": {},
   "source": [
    "\n",
    "# OOP Tapşırıqları: Miras, Encapsulation və Abstraction\n",
    "Bu notebook iki əsas obyekt yönlü proqramlaşdırma (OOP) tapşırığını əhatə edir:\n",
    "1. Miras və spesifik metodlar (Employee, Manager, Developer)\n",
    "2. Bank sistemi (Encapsulation və Abstraction tətbiqləri)\n"
   ]
  },
  {
   "cell_type": "markdown",
   "id": "49860720",
   "metadata": {},
   "source": [
    "## 1. Employee Sinifindən Miras Alan Manager və Developer"
   ]
  },
  {
   "cell_type": "code",
   "execution_count": null,
   "id": "0ecd220b",
   "metadata": {},
   "outputs": [],
   "source": [
    "\n",
    "class Employee:\n",
    "    def __init__(self, name, salary):\n",
    "        self.name = name\n",
    "        self.salary = salary\n",
    "\n",
    "    def show_info(self):\n",
    "        print(f\"Ad: {self.name}, Maaş: {self.salary}\")\n",
    "\n",
    "class Manager(Employee):\n",
    "    def __init__(self, name, salary, team_size):\n",
    "        super().__init__(name, salary)\n",
    "        self.team_size = team_size\n",
    "\n",
    "    def manage_team(self):\n",
    "        print(f\"{self.name} {self.team_size} nəfərlik komandaya rəhbərlik edir.\")\n",
    "\n",
    "class Developer(Employee):\n",
    "    def __init__(self, name, salary, language):\n",
    "        super().__init__(name, salary)\n",
    "        self.language = language\n",
    "\n",
    "    def write_code(self):\n",
    "        print(f\"{self.name} {self.language} dilində proqram yazır.\")\n",
    "\n",
    "# İstifadə nümunəsi\n",
    "m1 = Manager(\"Emin\", 3000, 5)\n",
    "d1 = Developer(\"Leyla\", 2500, \"Python\")\n",
    "\n",
    "m1.show_info()\n",
    "m1.manage_team()\n",
    "d1.show_info()\n",
    "d1.write_code()\n"
   ]
  },
  {
   "cell_type": "markdown",
   "id": "eebee0d6",
   "metadata": {},
   "source": [
    "## 2. Bank Sistemi - Encapsulation və Abstraction"
   ]
  },
  {
   "cell_type": "code",
   "execution_count": null,
   "id": "d5201928",
   "metadata": {},
   "outputs": [],
   "source": [
    "\n",
    "from abc import ABC, abstractmethod\n",
    "\n",
    "class Account(ABC):\n",
    "    def __init__(self, name, balance, account_id):\n",
    "        self.__name = name\n",
    "        self.__balance = balance\n",
    "        self.__account_id = account_id\n",
    "\n",
    "    def get_account_info(self):\n",
    "        return f\"Ad: {self.__name}, Balans: {self.__balance}, ID: {self.__account_id}\"\n",
    "\n",
    "    def deposit(self, amount):\n",
    "        if amount > 0:\n",
    "            self.__balance += amount\n",
    "            print(f\"{amount} AZN əlavə edildi. Yeni balans: {self.__balance} AZN\")\n",
    "        else:\n",
    "            print(\"Məbləğ müsbət olmalıdır.\")\n",
    "\n",
    "    def withdraw(self, amount):\n",
    "        if 0 < amount <= self.__balance:\n",
    "            self.__balance -= amount\n",
    "            print(f\"{amount} AZN çıxarıldı. Yeni balans: {self.__balance} AZN\")\n",
    "        else:\n",
    "            print(\"Əməliyyat üçün kifayət qədər balans yoxdur və ya məbləğ yanlışdır.\")\n",
    "\n",
    "    @abstractmethod\n",
    "    def account_type(self):\n",
    "        pass\n",
    "\n",
    "class PersonalAccount(Account):\n",
    "    def account_type(self):\n",
    "        return \"Şəxsi hesab\"\n",
    "\n",
    "# İstifadə nümunəsi\n",
    "acc = PersonalAccount(\"Cavid\", 1000, \"ACC123456\")\n",
    "print(acc.get_account_info())\n",
    "acc.deposit(500)\n",
    "acc.withdraw(300)\n",
    "print(acc.account_type())\n"
   ]
  }
 ],
 "metadata": {},
 "nbformat": 4,
 "nbformat_minor": 5
}
